{
 "cells": [
  {
   "cell_type": "markdown",
   "metadata": {
    "id": "txCIAUInHiJa"
   },
   "source": [
    "# Exploratory Data Analysis"
   ]
  },
  {
   "cell_type": "code",
   "execution_count": null,
   "metadata": {
    "id": "hUebxpdssPmr"
   },
   "outputs": [],
   "source": [
    "'''\n",
    "While loading a downloaded colab python file on github repository getting error as:\n",
    "Invalid Notebook\n",
    "There was an error rendering your Notebook: the 'state' key is missing from 'metadata.widgets'. Add 'state' to each, or remove 'metadata.widgets'.\n",
    "Using nbformat v5.10.4 and nbconvert v7.16.6. all commands you suggested above, where should i execute those commands\n",
    "T\n",
    "his means the notebook file contains corrupted widget metadata — common in Colab or Jupyter when using interactive widgets like sliders or dropdowns.\n",
    "\n",
    "Solution:\n",
    "Open anaconda command prompt\n",
    "Type following commands:\n",
    "\n",
    "pip install nbstripout nbconvert\n",
    "\n",
    "nbstripout C:\\Users\\excel\\Downloads\\EDA_1_New.ipynb\n",
    "'''"
   ]
  },
  {
   "cell_type": "code",
   "execution_count": null,
   "metadata": {
    "id": "wo3F3kLrHiJf"
   },
   "outputs": [],
   "source": [
    "#load the libraries\n",
    "import pandas as pd\n",
    "import numpy as np\n",
    "import matplotlib.pyplot as plt\n",
    "import seaborn as sns\n",
    "plt.rcParams['figure.figsize'] = (10,5) # RuntimeConfiguration Parameters: size of graph, 10:width, 5:height\n",
    "plt.rcParams['figure.dpi'] = 300 # Resolution dots per inches\n",
    "%matplotlib inline\n",
    "# after plotting graph, many times depending on version of working library like matplotlib graph will not be displayed in output screen below\n",
    "# For that we have to write everytime plt.show(). So if you write '%matplotlib inline' we don't need to write show() method.\n",
    "import warnings # any library will give you future warnings regarding updates in functions. To ignore it write this line\n",
    "warnings.filterwarnings('ignore')"
   ]
  },
  {
   "cell_type": "code",
   "execution_count": null,
   "metadata": {
    "colab": {
     "base_uri": "https://localhost:8080/",
     "height": 423
    },
    "id": "tN9-2GL_HiJf",
    "outputId": "63ae29a8-31e8-42d2-e4dd-52b2e55c1206"
   },
   "outputs": [],
   "source": [
    "df = pd.read_csv(\"/content/data_clean1.csv\") # No index column will be displayed\n",
    "df"
   ]
  },
  {
   "cell_type": "code",
   "execution_count": null,
   "metadata": {
    "colab": {
     "base_uri": "https://localhost:8080/",
     "height": 363
    },
    "id": "318Q_lHFYBT0",
    "outputId": "174b59d4-6f56-4d77-d40d-821b483f9383"
   },
   "outputs": [],
   "source": [
    "df.head(10)"
   ]
  },
  {
   "cell_type": "code",
   "execution_count": null,
   "metadata": {
    "colab": {
     "base_uri": "https://localhost:8080/",
     "height": 363
    },
    "id": "T9XNoLH7HiJg",
    "outputId": "0a6e4ca0-11b4-437e-b20c-93bbf93a7d86"
   },
   "outputs": [],
   "source": [
    "df.tail(10)"
   ]
  },
  {
   "cell_type": "code",
   "execution_count": null,
   "metadata": {
    "colab": {
     "base_uri": "https://localhost:8080/",
     "height": 300
    },
    "id": "bSbR2cRtHiJk",
    "outputId": "25864dde-be56-431e-d141-5976801c633b"
   },
   "outputs": [],
   "source": [
    "df.describe()\n",
    "# Positive Skewness is there in Ozone as mean is greater than median i.e.41.58>30.50 so outliers are present on upper extreme\n",
    "# null values from count\n",
    "# Year value is same for all values so Year column is not important here. Check variance of column. Year's std is also 0, so it's not important column\n",
    "# You can check it by applying unique() function on Year column, you will get only one value 2010\n"
   ]
  },
  {
   "cell_type": "code",
   "execution_count": null,
   "metadata": {
    "colab": {
     "base_uri": "https://localhost:8080/",
     "height": 175
    },
    "id": "1m1IxNtn971j",
    "outputId": "d98189b4-c2de-434c-df71-406ef0ebf00b"
   },
   "outputs": [],
   "source": [
    "df.describe(include=object)\n",
    "# There are 8 columns but in above code we got descriptive statistics for only numeric colums\n",
    "# But if you check month and weater column, month is also numeric. But may be because of a single text value data type of entire column has become object.\n",
    "# in weather 3 missing values are there\n",
    "# top: the value having high frequency in that column, S is used 59 times in Weather col., 9 is used 34 times in Month col."
   ]
  },
  {
   "cell_type": "code",
   "execution_count": null,
   "metadata": {
    "colab": {
     "base_uri": "https://localhost:8080/",
     "height": 335
    },
    "id": "Sm69MrZNHiJl",
    "outputId": "8b973b53-1ea6-4f81-b445-90a415c5a8f6"
   },
   "outputs": [],
   "source": [
    "#data types\n",
    "df.dtypes # check data types of all variables\n",
    "# Month column's data type is wrong"
   ]
  },
  {
   "cell_type": "code",
   "execution_count": null,
   "metadata": {
    "colab": {
     "base_uri": "https://localhost:8080/"
    },
    "id": "KqE6Lyva7NXZ",
    "outputId": "34d01426-1c0a-4a4f-d16a-eb3ad27f8519"
   },
   "outputs": [],
   "source": [
    "df.info() # find missing values"
   ]
  },
  {
   "cell_type": "markdown",
   "metadata": {
    "id": "tN31i1h2HiJn"
   },
   "source": [
    "# Data type conversion"
   ]
  },
  {
   "cell_type": "code",
   "execution_count": null,
   "metadata": {
    "colab": {
     "base_uri": "https://localhost:8080/",
     "height": 458
    },
    "id": "Yd2OLNHlAbn-",
    "outputId": "c43931af-d58e-4364-c005-f75a91db17b4"
   },
   "outputs": [],
   "source": [
    "df['Month']"
   ]
  },
  {
   "cell_type": "code",
   "execution_count": null,
   "metadata": {
    "colab": {
     "base_uri": "https://localhost:8080/"
    },
    "id": "RxkxsqIOAi6g",
    "outputId": "1717fcb1-046e-41d1-99a9-4dca25f918d0"
   },
   "outputs": [],
   "source": [
    "df['Month'].unique()\n",
    "# May is present so data type is object. We can replace it with 5 as 5th month is May. If can't guess replace is with NaN"
   ]
  },
  {
   "cell_type": "code",
   "execution_count": null,
   "metadata": {
    "colab": {
     "base_uri": "https://localhost:8080/",
     "height": 303
    },
    "id": "8RAApjJKAmMz",
    "outputId": "95860205-fdcc-42bb-baf3-a413d7ecfbde"
   },
   "outputs": [],
   "source": [
    "df['Month'].value_counts()"
   ]
  },
  {
   "cell_type": "code",
   "execution_count": null,
   "metadata": {
    "id": "50TEQfC_BGHE"
   },
   "outputs": [],
   "source": [
    "df['Month'].replace('May','5',inplace=True) # replacing only value not the datatype"
   ]
  },
  {
   "cell_type": "code",
   "execution_count": null,
   "metadata": {
    "colab": {
     "base_uri": "https://localhost:8080/"
    },
    "id": "XwiuzamOBQbU",
    "outputId": "61eb81c5-2ac6-4ccd-a57d-94f5e94700a0"
   },
   "outputs": [],
   "source": [
    "df['Month'].unique()"
   ]
  },
  {
   "cell_type": "code",
   "execution_count": null,
   "metadata": {
    "colab": {
     "base_uri": "https://localhost:8080/",
     "height": 335
    },
    "id": "davKJ4etBTK4",
    "outputId": "a0b6ae17-6be1-4c53-ddba-4e686b5bc45a"
   },
   "outputs": [],
   "source": [
    "df.dtypes"
   ]
  },
  {
   "cell_type": "code",
   "execution_count": null,
   "metadata": {
    "colab": {
     "base_uri": "https://localhost:8080/",
     "height": 458
    },
    "id": "ipI06NN9BUh-",
    "outputId": "a4001a21-a8bc-4bbb-fc86-28976d520c39"
   },
   "outputs": [],
   "source": [
    "df['Month'].astype(int) # no permanent changes, inplace=True is not allowed here"
   ]
  },
  {
   "cell_type": "code",
   "execution_count": null,
   "metadata": {
    "colab": {
     "base_uri": "https://localhost:8080/",
     "height": 335
    },
    "id": "HjL6SX35Bany",
    "outputId": "9cf7e43c-8d4d-4eee-f2da-303cb27ac78a"
   },
   "outputs": [],
   "source": [
    "df.dtypes"
   ]
  },
  {
   "cell_type": "code",
   "execution_count": null,
   "metadata": {
    "id": "9bKllt--BcK2"
   },
   "outputs": [],
   "source": [
    "df['Month'] = df['Month'].astype(int)"
   ]
  },
  {
   "cell_type": "code",
   "execution_count": null,
   "metadata": {
    "colab": {
     "base_uri": "https://localhost:8080/",
     "height": 335
    },
    "id": "yKCtz89OCV-G",
    "outputId": "dcdbd8a4-7c2c-4aa9-b98f-52a11821cc73"
   },
   "outputs": [],
   "source": [
    "df.dtypes # now Month's datatype is changed"
   ]
  },
  {
   "cell_type": "markdown",
   "metadata": {
    "id": "LI2DL0XiCiO9"
   },
   "source": [
    "# **Duplicates**"
   ]
  },
  {
   "cell_type": "code",
   "execution_count": null,
   "metadata": {
    "colab": {
     "base_uri": "https://localhost:8080/",
     "height": 423
    },
    "id": "7rGbKelPCXnb",
    "outputId": "119b65d8-b148-4967-a1ec-ccd4c6a0338a"
   },
   "outputs": [],
   "source": [
    "df"
   ]
  },
  {
   "cell_type": "code",
   "execution_count": null,
   "metadata": {
    "colab": {
     "base_uri": "https://localhost:8080/",
     "height": 458
    },
    "id": "qOurhaqcCnuQ",
    "outputId": "6c999b46-35e6-4675-e75a-7ef3b424cb90"
   },
   "outputs": [],
   "source": [
    "df.duplicated()\n",
    "# If duplicate values are there your model will not learn any new thing from it."
   ]
  },
  {
   "cell_type": "code",
   "execution_count": null,
   "metadata": {
    "colab": {
     "base_uri": "https://localhost:8080/"
    },
    "id": "qNj4d6W5D08I",
    "outputId": "b431526d-2006-46b5-b5a6-7dc3eeae4a00"
   },
   "outputs": [],
   "source": [
    "df.duplicated().sum() # index 157 is duplicate record of other record"
   ]
  },
  {
   "cell_type": "code",
   "execution_count": null,
   "metadata": {
    "colab": {
     "base_uri": "https://localhost:8080/",
     "height": 81
    },
    "id": "MhUZeSFVEUaM",
    "outputId": "e56ba24d-0a55-4c39-d3c8-00518ca48406"
   },
   "outputs": [],
   "source": [
    "# print duplicated values. keep=(first,last,false),keep=first 1st record as original and rest as duplicate\n",
    "# default for keep is first. keep=false will treat all similar records as duplicate\n",
    "df[df.duplicated()]"
   ]
  },
  {
   "cell_type": "code",
   "execution_count": null,
   "metadata": {
    "colab": {
     "base_uri": "https://localhost:8080/",
     "height": 112
    },
    "id": "X7K6vGcMFVrT",
    "outputId": "cc3e20a3-e77f-475d-dbb2-ddd276b097f5"
   },
   "outputs": [],
   "source": [
    "df[df.duplicated(keep = False)]"
   ]
  },
  {
   "cell_type": "code",
   "execution_count": null,
   "metadata": {
    "id": "etqoNM4lD1TV"
   },
   "outputs": [],
   "source": [
    "# Drop Duplicated records"
   ]
  },
  {
   "cell_type": "code",
   "execution_count": null,
   "metadata": {
    "id": "6s_q_U--D1Wn"
   },
   "outputs": [],
   "source": [
    "df.drop_duplicates(inplace=True)"
   ]
  },
  {
   "cell_type": "code",
   "execution_count": null,
   "metadata": {
    "colab": {
     "base_uri": "https://localhost:8080/"
    },
    "id": "lJfW1JxrF-1q",
    "outputId": "42793077-7461-4509-c6d1-0b3afa3a3c06"
   },
   "outputs": [],
   "source": [
    "df.shape"
   ]
  },
  {
   "cell_type": "code",
   "execution_count": null,
   "metadata": {
    "colab": {
     "base_uri": "https://localhost:8080/"
    },
    "id": "-oOiQBFNGAu7",
    "outputId": "2cc71734-5e15-4504-e444-df9e39487bd4"
   },
   "outputs": [],
   "source": [
    "df.duplicated().sum()"
   ]
  },
  {
   "cell_type": "markdown",
   "metadata": {
    "id": "NqRmf33iHUjF"
   },
   "source": [
    "# **Drop Columns**"
   ]
  },
  {
   "cell_type": "code",
   "execution_count": null,
   "metadata": {
    "colab": {
     "base_uri": "https://localhost:8080/",
     "height": 206
    },
    "id": "Kxz9gesOGKLh",
    "outputId": "591165f9-52ef-4bb4-a749-42533beaae8f"
   },
   "outputs": [],
   "source": [
    "df.head()"
   ]
  },
  {
   "cell_type": "code",
   "execution_count": null,
   "metadata": {
    "colab": {
     "base_uri": "https://localhost:8080/",
     "height": 363
    },
    "id": "aQAq2Bm6sBP2",
    "outputId": "5538d081-7126-4314-b0ad-3b5f4e9cb386"
   },
   "outputs": [],
   "source": [
    "df.tail(10)"
   ]
  },
  {
   "cell_type": "code",
   "execution_count": null,
   "metadata": {
    "colab": {
     "base_uri": "https://localhost:8080/",
     "height": 147
    },
    "id": "ARjt008aQAIZ",
    "outputId": "8f81a5ff-6c8e-4443-ff52-e0d0620a524f"
   },
   "outputs": [],
   "source": [
    "df['Year'].value_counts()"
   ]
  },
  {
   "cell_type": "code",
   "execution_count": null,
   "metadata": {
    "id": "K6rADyVXHn4s"
   },
   "outputs": [],
   "source": [
    "df.drop(columns=['Year'],inplace=True)"
   ]
  },
  {
   "cell_type": "code",
   "execution_count": null,
   "metadata": {
    "colab": {
     "base_uri": "https://localhost:8080/",
     "height": 206
    },
    "id": "6eK1RsdPHw_a",
    "outputId": "e784832d-e1ba-46a9-e303-cc3410975ad2"
   },
   "outputs": [],
   "source": [
    "df.head()"
   ]
  },
  {
   "cell_type": "code",
   "execution_count": null,
   "metadata": {
    "colab": {
     "base_uri": "https://localhost:8080/",
     "height": 423
    },
    "id": "k4cDp97jD1aG",
    "outputId": "1b41e5fb-ff5c-4b00-cffa-983cfb12ae55"
   },
   "outputs": [],
   "source": [
    "# To drop multiple columns: will drop only for display purpose\n",
    "df.drop(columns=['Ozone','Month'])# as inplace=True not written, changes are temporary"
   ]
  },
  {
   "cell_type": "code",
   "execution_count": null,
   "metadata": {
    "colab": {
     "base_uri": "https://localhost:8080/",
     "height": 423
    },
    "id": "z8Od7aNHIQ9n",
    "outputId": "72926942-d6e1-443c-8ec2-8cba4270e67d"
   },
   "outputs": [],
   "source": [
    "df # Ozone and Month colums are present in dataframe"
   ]
  },
  {
   "cell_type": "code",
   "execution_count": null,
   "metadata": {
    "colab": {
     "base_uri": "https://localhost:8080/",
     "height": 423
    },
    "id": "jI1pBPtNIV83",
    "outputId": "38c433f1-a442-483b-a146-52bca64cdb93"
   },
   "outputs": [],
   "source": [
    "# to drop a record or row\n",
    "df.drop(index=[1]) # Temporary changes"
   ]
  },
  {
   "cell_type": "code",
   "execution_count": null,
   "metadata": {
    "colab": {
     "base_uri": "https://localhost:8080/",
     "height": 423
    },
    "id": "J90PxCH3IqzL",
    "outputId": "4bfbc2e0-28b3-4665-d8cf-96f582ed3d1f"
   },
   "outputs": [],
   "source": [
    "# drop multiple rows\n",
    "df.drop(index=[1,3])"
   ]
  },
  {
   "cell_type": "markdown",
   "metadata": {
    "id": "tluRjIoUI5eY"
   },
   "source": [
    "# **Rename the Column**"
   ]
  },
  {
   "cell_type": "code",
   "execution_count": null,
   "metadata": {
    "colab": {
     "base_uri": "https://localhost:8080/",
     "height": 206
    },
    "id": "JkYMyd8yI3vm",
    "outputId": "5ff0028e-1293-4b61-a1e0-9f13060400de"
   },
   "outputs": [],
   "source": [
    "df.head()"
   ]
  },
  {
   "cell_type": "code",
   "execution_count": null,
   "metadata": {
    "colab": {
     "base_uri": "https://localhost:8080/",
     "height": 423
    },
    "id": "GZf-jYqnI-gi",
    "outputId": "78eb1176-ef1c-4146-b8d4-11aee51fa619"
   },
   "outputs": [],
   "source": [
    "df"
   ]
  },
  {
   "cell_type": "code",
   "execution_count": null,
   "metadata": {
    "id": "Kbuo1bNJHiKC"
   },
   "outputs": [],
   "source": [
    "#rename the Solar column, Pass parameter in dictionary form\n",
    "df.rename(columns={'Solar.R': 'Solar','Temp':'Temperature'}, inplace=True)"
   ]
  },
  {
   "cell_type": "code",
   "execution_count": null,
   "metadata": {
    "colab": {
     "base_uri": "https://localhost:8080/",
     "height": 423
    },
    "id": "Sbkl-JghJYMO",
    "outputId": "5adaa0b8-6e19-447e-e5c4-77de0dba43bc"
   },
   "outputs": [],
   "source": [
    "df"
   ]
  },
  {
   "cell_type": "markdown",
   "metadata": {
    "id": "6YrRO5fTJoA-"
   },
   "source": [
    "# **Missing Value Imputation**\n",
    "Reasons of missing values:\n",
    "*   Data entry errors\n",
    "*   Issues with machines\n",
    "*   Improper data handling, etc.\n",
    "## **Treatment**\n",
    "*   0 to 5 % missing values in a column: drop rows\n",
    "*   6 to 45 % missing values in a column: replace the missing values\n",
    "* 50% missing values in a column: drop column\n",
    "\n",
    "\n",
    "\n"
   ]
  },
  {
   "cell_type": "code",
   "execution_count": null,
   "metadata": {
    "colab": {
     "base_uri": "https://localhost:8080/",
     "height": 206
    },
    "id": "GfrkLLT5JZLw",
    "outputId": "6e6339e2-0510-4612-a11f-f7819d3fb553"
   },
   "outputs": [],
   "source": [
    "df.head()"
   ]
  },
  {
   "cell_type": "code",
   "execution_count": null,
   "metadata": {
    "colab": {
     "base_uri": "https://localhost:8080/",
     "height": 423
    },
    "id": "bnGNk2pQKmmr",
    "outputId": "ff2a89bb-f911-4b5c-a0ae-9e2dafc238c9"
   },
   "outputs": [],
   "source": [
    "df.isna() # or isnull(), True: missing value"
   ]
  },
  {
   "cell_type": "code",
   "execution_count": null,
   "metadata": {
    "colab": {
     "base_uri": "https://localhost:8080/",
     "height": 303
    },
    "id": "1-JNgM2iKtaO",
    "outputId": "61cdf773-c929-4e67-f698-1298cdeea4a1"
   },
   "outputs": [],
   "source": [
    "df.isna().sum()"
   ]
  },
  {
   "cell_type": "code",
   "execution_count": null,
   "metadata": {
    "colab": {
     "base_uri": "https://localhost:8080/",
     "height": 303
    },
    "id": "iy7GkMrvK3tS",
    "outputId": "79efcaad-db8c-49d0-81ad-6272b44204bb"
   },
   "outputs": [],
   "source": [
    "df.isnull().sum()"
   ]
  },
  {
   "cell_type": "code",
   "execution_count": null,
   "metadata": {
    "colab": {
     "base_uri": "https://localhost:8080/",
     "height": 835
    },
    "id": "YgOGEeVrMvDO",
    "outputId": "3514e269-0796-4529-b5b6-a7f20516f1c8"
   },
   "outputs": [],
   "source": [
    "# visualize missing values\n",
    "sns.heatmap(df.isna()) # white horizontal lines are missing values"
   ]
  },
  {
   "cell_type": "code",
   "execution_count": null,
   "metadata": {
    "colab": {
     "base_uri": "https://localhost:8080/",
     "height": 303
    },
    "id": "0klaFEY4QYNr",
    "outputId": "30c43d93-8500-4466-bbf8-49fe2ea76c8a"
   },
   "outputs": [],
   "source": [
    "df.isna().sum()"
   ]
  },
  {
   "cell_type": "code",
   "execution_count": null,
   "metadata": {
    "colab": {
     "base_uri": "https://localhost:8080/"
    },
    "id": "9doIMcYARR7a",
    "outputId": "02f01a15-8cf0-49f0-d524-45b59e7a04a9"
   },
   "outputs": [],
   "source": [
    "len(df)"
   ]
  },
  {
   "cell_type": "code",
   "execution_count": null,
   "metadata": {
    "colab": {
     "base_uri": "https://localhost:8080/"
    },
    "id": "85slMAcNQ_Rg",
    "outputId": "20543adb-40ff-460a-c095-fe9acf99963d"
   },
   "outputs": [],
   "source": [
    "# % of missing values\n",
    "for i in df.isna().sum():\n",
    "  print((i/len(df))*100)\n",
    "# Ozone: replace missing values as missing values are in the range of 6 to 45%\n",
    "# Solar, Weather: drop missing values\n",
    "# but we will treat missing values\n",
    "# Ozone and Solar are numeric columns. If outliers are present in that column, replace missing values with median,\n",
    "# if no outliers in column replace missing value with mean\n",
    "# if categorical column replace missing value with mode.\n",
    "\n",
    "# 0 to 5 % missing values: drop rows\n",
    "# 6 to 45 %: replace the missing values\n",
    "# 50%: drop column"
   ]
  },
  {
   "cell_type": "code",
   "execution_count": null,
   "metadata": {
    "colab": {
     "base_uri": "https://localhost:8080/",
     "height": 206
    },
    "id": "WGSq7rduRIRd",
    "outputId": "e3f2e66f-f9a6-4764-aa89-d9087bd5b3d1"
   },
   "outputs": [],
   "source": [
    "df.head()"
   ]
  },
  {
   "cell_type": "code",
   "execution_count": null,
   "metadata": {
    "colab": {
     "base_uri": "https://localhost:8080/",
     "height": 717
    },
    "id": "ZiEKVo5YSxJj",
    "outputId": "78f85a64-ffc9-4a5d-8e62-9c1bc0545910"
   },
   "outputs": [],
   "source": [
    "df.hist()\n",
    "plt.tight_layout() # avoid overlapping of labels of graphs\n",
    "# Skewness: Less than -1 or greater than +1 high skewness, Ozone\n",
    "# -0.5 to +0.5: Moderate skewness, Solar\n",
    "# 0: Normal"
   ]
  },
  {
   "cell_type": "code",
   "execution_count": null,
   "metadata": {
    "colab": {
     "base_uri": "https://localhost:8080/",
     "height": 771
    },
    "id": "6fgUnp8jS-RH",
    "outputId": "e0b454ce-2e3f-4061-af0f-dfd6afcee00e"
   },
   "outputs": [],
   "source": [
    "df.boxplot()\n",
    "# Ozone: outliers are present so replace missing values with median\n",
    "# In Solar: No outliers so replace missing values with mean"
   ]
  },
  {
   "cell_type": "code",
   "execution_count": null,
   "metadata": {
    "colab": {
     "base_uri": "https://localhost:8080/",
     "height": 826
    },
    "id": "yjzdGfmRVnuH",
    "outputId": "d06c8dfa-eb0d-4da5-90e5-53d3e6cb9b2b"
   },
   "outputs": [],
   "source": [
    "sns.boxplot(x = df['Wind']) # for vertical boxplot: sns.boxplot(y = df['Wind'])"
   ]
  },
  {
   "cell_type": "code",
   "execution_count": null,
   "metadata": {
    "colab": {
     "base_uri": "https://localhost:8080/"
    },
    "id": "vFievEvXTnBM",
    "outputId": "d5e94847-4c6f-4b12-b70f-aba068720f23"
   },
   "outputs": [],
   "source": [
    "ozone_median = df['Ozone'].median()\n",
    "ozone_median"
   ]
  },
  {
   "cell_type": "code",
   "execution_count": null,
   "metadata": {
    "id": "XGc9cY0qUHUf"
   },
   "outputs": [],
   "source": [
    "df['Ozone'].fillna(ozone_median,inplace=True)"
   ]
  },
  {
   "cell_type": "code",
   "execution_count": null,
   "metadata": {
    "colab": {
     "base_uri": "https://localhost:8080/",
     "height": 303
    },
    "id": "y-v4P3YTUOVO",
    "outputId": "b2b2993e-142a-42db-c1ea-cb1fae3956e5"
   },
   "outputs": [],
   "source": [
    "df.isna().sum()"
   ]
  },
  {
   "cell_type": "code",
   "execution_count": null,
   "metadata": {
    "colab": {
     "base_uri": "https://localhost:8080/"
    },
    "id": "AYpWjAmeURls",
    "outputId": "46cf15ce-84fc-4d89-aced-8dc5b52cac1a"
   },
   "outputs": [],
   "source": [
    "df['Solar'].mean()"
   ]
  },
  {
   "cell_type": "code",
   "execution_count": null,
   "metadata": {
    "id": "ZNAewri_UViK"
   },
   "outputs": [],
   "source": [
    "df['Solar'].fillna(df['Solar'].mean(),inplace=True)"
   ]
  },
  {
   "cell_type": "code",
   "execution_count": null,
   "metadata": {
    "colab": {
     "base_uri": "https://localhost:8080/",
     "height": 303
    },
    "id": "Z1I08N_sUn2L",
    "outputId": "a0ac6429-e8e1-4554-fe90-f29b1960ba74"
   },
   "outputs": [],
   "source": [
    "df.isna().sum()"
   ]
  },
  {
   "cell_type": "code",
   "execution_count": null,
   "metadata": {
    "colab": {
     "base_uri": "https://localhost:8080/",
     "height": 209
    },
    "id": "6bOLGO1JUrY0",
    "outputId": "992a9c4d-b621-4a51-fa54-652c4bc259e4"
   },
   "outputs": [],
   "source": [
    "df['Weather'].value_counts()"
   ]
  },
  {
   "cell_type": "code",
   "execution_count": null,
   "metadata": {
    "colab": {
     "base_uri": "https://localhost:8080/",
     "height": 115
    },
    "id": "3Zf3cOQ1UwkS",
    "outputId": "51e875f2-bd0c-4476-b13d-2ce51ebb8a8a"
   },
   "outputs": [],
   "source": [
    "df['Weather'].mode()"
   ]
  },
  {
   "cell_type": "code",
   "execution_count": null,
   "metadata": {
    "colab": {
     "base_uri": "https://localhost:8080/",
     "height": 36
    },
    "id": "BIH7BEvbU0p1",
    "outputId": "8ee1c772-a500-483f-cfdb-239838020aa8"
   },
   "outputs": [],
   "source": [
    "df['Weather'].mode()[0] # for multimodal values select index 0 mode"
   ]
  },
  {
   "cell_type": "code",
   "execution_count": null,
   "metadata": {
    "id": "O5J32awrU6WF"
   },
   "outputs": [],
   "source": [
    "df['Weather'].fillna(df['Weather'].mode()[0],inplace=True)"
   ]
  },
  {
   "cell_type": "code",
   "execution_count": null,
   "metadata": {
    "colab": {
     "base_uri": "https://localhost:8080/",
     "height": 303
    },
    "id": "bLe3noP2VlCW",
    "outputId": "62f3d976-0e49-4f66-f046-95311b961ffa"
   },
   "outputs": [],
   "source": [
    "df.isna().sum()"
   ]
  },
  {
   "cell_type": "code",
   "execution_count": null,
   "metadata": {
    "colab": {
     "base_uri": "https://localhost:8080/",
     "height": 209
    },
    "id": "jMMf_haKdDfe",
    "outputId": "b54b823d-e0da-435c-92b0-01559c5883f2"
   },
   "outputs": [],
   "source": [
    "df['Weather'].value_counts()"
   ]
  },
  {
   "cell_type": "markdown",
   "metadata": {
    "id": "ZA3F0_0lVp7x"
   },
   "source": [
    "# **Outlier Detection**\n",
    "*   Histogram\n",
    "*   Boxplot\n",
    "*   Descriptive Statistics\n",
    "\n"
   ]
  },
  {
   "cell_type": "code",
   "execution_count": null,
   "metadata": {
    "colab": {
     "base_uri": "https://localhost:8080/",
     "height": 300
    },
    "id": "MmwvcN802Gbq",
    "outputId": "a6011797-bf4a-4de2-ffa8-0e2dcd62db85"
   },
   "outputs": [],
   "source": [
    "df.describe()\n",
    "# getting idea that Ozone and Wind columns have outliers as huge gap in between 75% and max value"
   ]
  },
  {
   "cell_type": "code",
   "execution_count": null,
   "metadata": {
    "colab": {
     "base_uri": "https://localhost:8080/",
     "height": 717
    },
    "id": "hQiMF3zt3PdI",
    "outputId": "385bc5a9-b84b-42ef-9802-848a8cd9b91b"
   },
   "outputs": [],
   "source": [
    "df.hist()\n",
    "plt.tight_layout()\n",
    "# same outlier information is visible here. Confirm with boxplot"
   ]
  },
  {
   "cell_type": "code",
   "execution_count": null,
   "metadata": {
    "colab": {
     "base_uri": "https://localhost:8080/",
     "height": 771
    },
    "id": "L3vlsFlt31e-",
    "outputId": "79f9d72f-065a-436f-8fe9-7b7c7f4921df"
   },
   "outputs": [],
   "source": [
    "df.boxplot()"
   ]
  },
  {
   "cell_type": "code",
   "execution_count": null,
   "metadata": {
    "colab": {
     "base_uri": "https://localhost:8080/",
     "height": 819
    },
    "id": "kkAWMluX4Kvi",
    "outputId": "8eef2c88-596e-4ac6-a6cb-b6ad13be6871"
   },
   "outputs": [],
   "source": [
    "sns.boxplot(x = df['Ozone'])"
   ]
  },
  {
   "cell_type": "markdown",
   "metadata": {
    "id": "d28Pz4ba59xQ"
   },
   "source": [
    "# **Outlier Treatment**\n",
    "\n",
    "*   Capping: Replacing outlier values is called capping\n",
    "*   In Capping all outlier values will be replaced by upper extreme\n",
    "\n"
   ]
  },
  {
   "cell_type": "code",
   "execution_count": null,
   "metadata": {
    "id": "OP9klaJu9Kk2"
   },
   "outputs": [],
   "source": [
    "def UserFunction():\n",
    "  print(\"Hello\")\n",
    "  print(\"Function Introduction\")"
   ]
  },
  {
   "cell_type": "code",
   "execution_count": null,
   "metadata": {
    "colab": {
     "base_uri": "https://localhost:8080/"
    },
    "id": "RGrSwhbc9cye",
    "outputId": "4592dcae-9b79-4502-e8b2-0c145b23d0c2"
   },
   "outputs": [],
   "source": [
    "UserFunction()"
   ]
  },
  {
   "cell_type": "code",
   "execution_count": null,
   "metadata": {
    "colab": {
     "base_uri": "https://localhost:8080/",
     "height": 141
    },
    "id": "zQIo489p9uf5",
    "outputId": "dbf62b2b-2ed2-4c7b-9989-6b8e53280df3"
   },
   "outputs": [],
   "source": [
    "UserFunction(10)"
   ]
  },
  {
   "cell_type": "code",
   "execution_count": null,
   "metadata": {
    "colab": {
     "base_uri": "https://localhost:8080/",
     "height": 141
    },
    "id": "uLgCAYRv9z6f",
    "outputId": "f3a5a447-28d8-4e06-e1cd-4220236bafde"
   },
   "outputs": [],
   "source": [
    "len()"
   ]
  },
  {
   "cell_type": "code",
   "execution_count": null,
   "metadata": {
    "colab": {
     "base_uri": "https://localhost:8080/"
    },
    "id": "nChPWPCT925c",
    "outputId": "d189dc11-245d-4cee-f3fb-00508272e793"
   },
   "outputs": [],
   "source": [
    "len(df)"
   ]
  },
  {
   "cell_type": "code",
   "execution_count": null,
   "metadata": {
    "id": "fcA2KNLP96Ze"
   },
   "outputs": [],
   "source": [
    "def add(num1,num2):\n",
    "  print(num1 + num2)"
   ]
  },
  {
   "cell_type": "code",
   "execution_count": null,
   "metadata": {
    "colab": {
     "base_uri": "https://localhost:8080/",
     "height": 141
    },
    "id": "NqoW7bFM-S9s",
    "outputId": "2ffd0603-40b0-4055-f0d4-7d6710656614"
   },
   "outputs": [],
   "source": [
    "add(10)"
   ]
  },
  {
   "cell_type": "code",
   "execution_count": null,
   "metadata": {
    "colab": {
     "base_uri": "https://localhost:8080/"
    },
    "id": "Vqaj0AIU-UMD",
    "outputId": "1611e5f2-2b5b-4a01-8049-b487c3401567"
   },
   "outputs": [],
   "source": [
    "add(110,20)"
   ]
  },
  {
   "cell_type": "code",
   "execution_count": null,
   "metadata": {
    "id": "wV5Actkc-XEt"
   },
   "outputs": [],
   "source": [
    "def arithmatic(num1,num2):\n",
    "  print(\"Addition:\",num1 + num2)\n",
    "  print(\"Subtraction:\",num1 - num2)\n",
    "  print(\"Multiplication:\",num1 * num2)\n",
    "  print(\"Division:\",num1 / num2)"
   ]
  },
  {
   "cell_type": "code",
   "execution_count": null,
   "metadata": {
    "colab": {
     "base_uri": "https://localhost:8080/"
    },
    "id": "zuTVRHo0_FXa",
    "outputId": "e686ca63-9099-4e3c-8fc2-5afd2f196598"
   },
   "outputs": [],
   "source": [
    "arithmatic(40,4)"
   ]
  },
  {
   "cell_type": "code",
   "execution_count": null,
   "metadata": {
    "colab": {
     "base_uri": "https://localhost:8080/",
     "height": 36
    },
    "id": "zXFO5HuN2H7T",
    "outputId": "35a3480d-b164-4649-a786-10b86762c84f"
   },
   "outputs": [],
   "source": [
    "\"Data\" + \"Science\""
   ]
  },
  {
   "cell_type": "code",
   "execution_count": null,
   "metadata": {
    "colab": {
     "base_uri": "https://localhost:8080/",
     "height": 36
    },
    "id": "rnkt_OyYATby",
    "outputId": "f8baae2f-2737-47e3-84b9-1698d9f4d909"
   },
   "outputs": [],
   "source": [
    "\"Data\" + \" \" + \"Science\""
   ]
  },
  {
   "cell_type": "code",
   "execution_count": null,
   "metadata": {
    "id": "4b4IDVI4AQTI"
   },
   "outputs": [],
   "source": [
    "def addText(text1,text2):\n",
    "  print(text1 + \" \" + text2)"
   ]
  },
  {
   "cell_type": "code",
   "execution_count": null,
   "metadata": {
    "colab": {
     "base_uri": "https://localhost:8080/"
    },
    "id": "3NKUTOIAAnuu",
    "outputId": "b9cb3aec-0acd-4ad2-cc9c-da98e10f4bd1"
   },
   "outputs": [],
   "source": [
    "addText(\"String\",\"Concatenation\")"
   ]
  },
  {
   "cell_type": "code",
   "execution_count": null,
   "metadata": {
    "colab": {
     "base_uri": "https://localhost:8080/"
    },
    "id": "9CF_9fVwAv-9",
    "outputId": "c01f1b12-4b22-4a50-acf0-1ae6491ce19e"
   },
   "outputs": [],
   "source": [
    "df['Ozone'].quantile(0.25) # lower quartile: q1"
   ]
  },
  {
   "cell_type": "code",
   "execution_count": null,
   "metadata": {
    "colab": {
     "base_uri": "https://localhost:8080/"
    },
    "id": "7Ezb6YxoBG0D",
    "outputId": "93ab8e99-cb84-4f0d-eced-872f24bb35f1"
   },
   "outputs": [],
   "source": [
    "df['Ozone'].quantile(0.75) # upper quartile: q3"
   ]
  },
  {
   "cell_type": "code",
   "execution_count": null,
   "metadata": {
    "id": "W7g0v2Gr4WWf"
   },
   "outputs": [],
   "source": [
    "# Outlier Detection: User defined Function to calculate Upper Extreme and Lower Extreme value\n",
    "def outlier_detection(data,colname):\n",
    "  q1 = data[colname].quantile(0.25)\n",
    "  q3 = data[colname].quantile(0.75)\n",
    "  iqr = q3 - q1\n",
    "\n",
    "  upper_extreme = q3 + (1.5 * iqr)\n",
    "  lower_extreme = q1 - (1.5 * iqr)\n",
    "\n",
    "  return lower_extreme, upper_extreme,q1,q3"
   ]
  },
  {
   "cell_type": "code",
   "execution_count": null,
   "metadata": {
    "colab": {
     "base_uri": "https://localhost:8080/"
    },
    "id": "JbbK51pT2H-l",
    "outputId": "59365558-86f3-4fbf-8ee0-f75a0dc690e6"
   },
   "outputs": [],
   "source": [
    "outlier_detection(df,'Ozone')"
   ]
  },
  {
   "cell_type": "code",
   "execution_count": null,
   "metadata": {
    "colab": {
     "base_uri": "https://localhost:8080/"
    },
    "id": "ulSpUWMIMsQ6",
    "outputId": "f745ef46-15b9-45f9-d3bc-ad1088994f4d"
   },
   "outputs": [],
   "source": [
    "outlier_detection(df,'Wind') # try for 'Solar' or other columns"
   ]
  },
  {
   "cell_type": "code",
   "execution_count": null,
   "metadata": {
    "id": "k1cJZmSxNMa8"
   },
   "outputs": [],
   "source": [
    "# Additional Code\n",
    "import plotly.express as pe"
   ]
  },
  {
   "cell_type": "code",
   "execution_count": null,
   "metadata": {
    "colab": {
     "base_uri": "https://localhost:8080/",
     "height": 542
    },
    "id": "rL0yTxGuNj1U",
    "outputId": "176003d1-6efe-4ec8-86ea-e551ddbbe1e9"
   },
   "outputs": [],
   "source": [
    "# Additional Code\n",
    "pe.scatter(x = df['Ozone'], y = df['Temperature'])"
   ]
  },
  {
   "cell_type": "code",
   "execution_count": null,
   "metadata": {
    "colab": {
     "base_uri": "https://localhost:8080/",
     "height": 551
    },
    "id": "3Sd7G5KWOF-0",
    "outputId": "70ca4a55-ee2f-4d74-f0b9-0e16a6fdee0d"
   },
   "outputs": [],
   "source": [
    "# extract all values of Ozone column which are greater than upper extreme i.e 81\n",
    "df[df['Ozone']>81.0]"
   ]
  },
  {
   "cell_type": "code",
   "execution_count": null,
   "metadata": {
    "colab": {
     "base_uri": "https://localhost:8080/"
    },
    "id": "4KEJLFNcO4P4",
    "outputId": "0b256b49-e364-4c64-b291-73ea1ca9130f"
   },
   "outputs": [],
   "source": [
    "df[df['Ozone']>81.0].shape[0]"
   ]
  },
  {
   "cell_type": "code",
   "execution_count": null,
   "metadata": {
    "colab": {
     "base_uri": "https://localhost:8080/"
    },
    "id": "Swx7DgTiO-Cv",
    "outputId": "0d2261f5-674a-45cd-d9be-956d141926d2"
   },
   "outputs": [],
   "source": [
    "# OR\n",
    "len(df[df['Ozone']>81.0])"
   ]
  },
  {
   "cell_type": "code",
   "execution_count": null,
   "metadata": {
    "colab": {
     "base_uri": "https://localhost:8080/",
     "height": 585
    },
    "id": "UZgI3H72PKG6",
    "outputId": "3c9afacd-7947-4ae4-c61e-a06f58fbb7c4"
   },
   "outputs": [],
   "source": [
    "# Now all these 16 outlier values of Ozone column should be replaced by upper extreme\n",
    "df.loc[df['Ozone']>81.0,'Ozone']"
   ]
  },
  {
   "cell_type": "code",
   "execution_count": null,
   "metadata": {
    "id": "miHgFW39Pp4x"
   },
   "outputs": [],
   "source": [
    "# Capping Outliers of Ozone column\n",
    "df.loc[df['Ozone']>81.0,'Ozone'] = 81.0"
   ]
  },
  {
   "cell_type": "code",
   "execution_count": null,
   "metadata": {
    "colab": {
     "base_uri": "https://localhost:8080/",
     "height": 53
    },
    "id": "rvA3GlaNQB9o",
    "outputId": "4975da80-c6fb-456f-9090-f8f56ec4a61a"
   },
   "outputs": [],
   "source": [
    "df[df['Ozone'] > 81.0]\n",
    "# No values are displayed.. as all outliers are replaced by 81.0"
   ]
  },
  {
   "cell_type": "code",
   "execution_count": null,
   "metadata": {
    "colab": {
     "base_uri": "https://localhost:8080/",
     "height": 551
    },
    "id": "JnudCm2CQV7V",
    "outputId": "46f40bb0-0a89-4611-cdc9-0de6a41cc345"
   },
   "outputs": [],
   "source": [
    "df[df['Ozone'] == 81.0]\n",
    "# confirm index values for which outliere are replaced - 21,61,68....\n",
    "# check index in output of command lines 109 or 113"
   ]
  },
  {
   "cell_type": "code",
   "execution_count": null,
   "metadata": {
    "colab": {
     "base_uri": "https://localhost:8080/"
    },
    "id": "d2ivk7tqPmyr",
    "outputId": "a57decc7-eefe-4dad-d149-9dd5ef1001b1"
   },
   "outputs": [],
   "source": [
    "# Do it for 'Wind' column also\n",
    "outlier_detection(df,'Wind')"
   ]
  },
  {
   "cell_type": "code",
   "execution_count": null,
   "metadata": {
    "colab": {
     "base_uri": "https://localhost:8080/",
     "height": 826
    },
    "id": "yfvpGk4CR33Y",
    "outputId": "208995e1-24dc-42d6-949e-6a90dab1a459"
   },
   "outputs": [],
   "source": [
    "sns.boxplot(x = df['Wind'])"
   ]
  },
  {
   "cell_type": "code",
   "execution_count": null,
   "metadata": {
    "colab": {
     "base_uri": "https://localhost:8080/",
     "height": 143
    },
    "id": "bNgXzZinR82B",
    "outputId": "54a6e47f-38a8-4a2e-d94d-3e3852bbc664"
   },
   "outputs": [],
   "source": [
    "# Upper extreme value for Wind column is 17.65 so replace all values of Wind column which are greater than 17.65\n",
    "df[df['Wind'] > 17.65]"
   ]
  },
  {
   "cell_type": "code",
   "execution_count": null,
   "metadata": {
    "id": "vaoMLzlbSZ6A"
   },
   "outputs": [],
   "source": [
    "# Capping Outliers of Wind column\n",
    "df.loc[df['Wind']>17.65,'Wind'] = 17.65"
   ]
  },
  {
   "cell_type": "code",
   "execution_count": null,
   "metadata": {
    "colab": {
     "base_uri": "https://localhost:8080/",
     "height": 771
    },
    "id": "QFznpvdZS0Rk",
    "outputId": "3301e3bd-e6a5-4b21-ff9d-0e87f77c8456"
   },
   "outputs": [],
   "source": [
    "df.boxplot()\n",
    "# Now there are no outliers in any column"
   ]
  },
  {
   "cell_type": "code",
   "execution_count": null,
   "metadata": {
    "colab": {
     "base_uri": "https://localhost:8080/"
    },
    "id": "3oH0JoRQS2VU",
    "outputId": "8ba927d8-4fdb-4b0a-918e-6b68fcec8ccc"
   },
   "outputs": [],
   "source": [
    "df.shape"
   ]
  },
  {
   "cell_type": "markdown",
   "metadata": {
    "id": "wg6Jme5DTAEo"
   },
   "source": [
    "# **Scatter Plot and Correlation**"
   ]
  },
  {
   "cell_type": "code",
   "execution_count": null,
   "metadata": {
    "colab": {
     "base_uri": "https://localhost:8080/",
     "height": 206
    },
    "id": "ghcZFDcrWXBx",
    "outputId": "274f3e7d-f523-46c9-f3d9-d73261b0d2d7"
   },
   "outputs": [],
   "source": [
    "df.head()"
   ]
  },
  {
   "cell_type": "code",
   "execution_count": null,
   "metadata": {
    "colab": {
     "base_uri": "https://localhost:8080/",
     "height": 1000
    },
    "id": "xZJcaohS2IBw",
    "outputId": "42c1e2dc-9f90-461b-b3a8-9521151e2d0c"
   },
   "outputs": [],
   "source": [
    "sns.pairplot(df) # relationship between all nemerical columns\n",
    "# check graph of month(x axis) vs Temperature(y axis)\n",
    "# We got 5 vertical lines in it because datatype of Month is Discrete numerical value. It has only 5 unique discrete numerical values.\n",
    "# It shows no relationship between month and temperature"
   ]
  },
  {
   "cell_type": "code",
   "execution_count": null,
   "metadata": {
    "colab": {
     "base_uri": "https://localhost:8080/",
     "height": 209
    },
    "id": "PhspWwDz-31E",
    "outputId": "492d7573-8b16-447c-f25f-6a6fbd4b3946"
   },
   "outputs": [],
   "source": [
    "df['Weather'].value_counts()"
   ]
  },
  {
   "cell_type": "code",
   "execution_count": null,
   "metadata": {
    "colab": {
     "base_uri": "https://localhost:8080/",
     "height": 237
    },
    "id": "nfTMo3DWTVk8",
    "outputId": "290db450-b141-4116-ee93-17b1907fc7fa"
   },
   "outputs": [],
   "source": [
    "# Correlation Coefficient\n",
    "df.corr(numeric_only=True)\n",
    "# Ozone vs Ozone corr is 1.0 so ignore diagonal values\n",
    "# Ozone vs Temperature corr is 0.66 i.e. positive moderate correlation\n",
    "# For large no. of columns go for heatmap visualization"
   ]
  },
  {
   "cell_type": "code",
   "execution_count": null,
   "metadata": {
    "colab": {
     "base_uri": "https://localhost:8080/",
     "height": 836
    },
    "id": "kon-ZgTKTvmj",
    "outputId": "7974a512-cb67-471f-cd1e-e74c9c745fd3"
   },
   "outputs": [],
   "source": [
    "sns.heatmap(df.corr(numeric_only=True))\n",
    "# See sidebar which shows -1 to +1 values from bottom to top\n",
    "# On the side vertical bar Light color indicates positive strong relationship.\n",
    "# Dark black color indicates strong negative relationship\n",
    "# For clear understanging pass parameters to heatmap()"
   ]
  },
  {
   "cell_type": "code",
   "execution_count": null,
   "metadata": {
    "colab": {
     "base_uri": "https://localhost:8080/",
     "height": 836
    },
    "id": "3wCoqGLDY_Pr",
    "outputId": "a649282f-1ead-49b8-82b8-f5aa73bc7ff7"
   },
   "outputs": [],
   "source": [
    "sns.heatmap(df.corr(numeric_only=True),annot=True)\n",
    "# colors are representing correlation value also"
   ]
  },
  {
   "cell_type": "code",
   "execution_count": null,
   "metadata": {
    "colab": {
     "base_uri": "https://localhost:8080/",
     "height": 836
    },
    "id": "V9MMkfNraJ8i",
    "outputId": "3854b03a-02d9-4b82-bd52-9974eee82788"
   },
   "outputs": [],
   "source": [
    "# we can change color combination also\n",
    "sns.heatmap(df.corr(numeric_only=True),annot=True,cmap='viridis')"
   ]
  },
  {
   "cell_type": "code",
   "execution_count": null,
   "metadata": {
    "colab": {
     "base_uri": "https://localhost:8080/",
     "height": 836
    },
    "id": "jN8YoiuJaw3I",
    "outputId": "51393fa9-f672-4b66-c51d-3f40e10e13fe"
   },
   "outputs": [],
   "source": [
    "sns.heatmap(df.corr(numeric_only=True),annot=True,cmap='rainbow') # cmap='crest'"
   ]
  },
  {
   "cell_type": "markdown",
   "metadata": {
    "id": "RBaCixi0cVPt"
   },
   "source": [
    "# **Transformations**\n",
    "\n",
    "\n",
    "*   Convert Text data to numeric before model building\n",
    "\n"
   ]
  },
  {
   "cell_type": "code",
   "execution_count": null,
   "metadata": {
    "colab": {
     "base_uri": "https://localhost:8080/",
     "height": 206
    },
    "id": "LuGL1O6gcIfQ",
    "outputId": "2f79f634-0554-407c-935a-1af05e323f8a"
   },
   "outputs": [],
   "source": [
    "df.head()"
   ]
  },
  {
   "cell_type": "code",
   "execution_count": null,
   "metadata": {
    "id": "V3o5i95qc7Ic"
   },
   "outputs": [],
   "source": [
    "# Encoding using Pandas dummy function\n",
    "df = pd.get_dummies(data = df, columns = ['Weather'])"
   ]
  },
  {
   "cell_type": "code",
   "execution_count": null,
   "metadata": {
    "colab": {
     "base_uri": "https://localhost:8080/",
     "height": 423
    },
    "id": "gpxc9U5mdHhI",
    "outputId": "d8a03422-80e8-435e-9611-441cfa413302"
   },
   "outputs": [],
   "source": [
    "df"
   ]
  },
  {
   "cell_type": "markdown",
   "metadata": {
    "id": "w0-PJ3TxdNKm"
   },
   "source": [
    "# **Scaling the data**\n",
    "\n",
    "*   Bring down all columns to same scale\n",
    "\n",
    "*   Normalization: Scales value within the range 0 to 1\n",
    "\n",
    "*   Standardization: Uses Z score for scaling. Scale values in such a way that the mean=0 and std=1."
   ]
  },
  {
   "cell_type": "code",
   "execution_count": null,
   "metadata": {
    "id": "5sVYpeFsdIM0"
   },
   "outputs": [],
   "source": [
    "from sklearn.preprocessing import StandardScaler, MinMaxScaler"
   ]
  },
  {
   "cell_type": "code",
   "execution_count": null,
   "metadata": {
    "id": "NZKazCRHePyX"
   },
   "outputs": [],
   "source": [
    "# Standardization\n",
    "sc = StandardScaler() # ZScore=(x-x bar)/std"
   ]
  },
  {
   "cell_type": "code",
   "execution_count": null,
   "metadata": {
    "id": "oNcgX1BKf2R3"
   },
   "outputs": [],
   "source": [
    "# sc.fit(): 1st Mean and Std of Ozone column is calculated. Then in numerator subtraction is done i.e. x-mean.\n",
    "#           Then answer is divided by Std. Thus z-score is calculated. All the calculations are done by fit() function.\n",
    "# sc.transform(): Original value in table is replaced by transform() function. i.e. 41.0 in Ozone column is replaced by it's z-score as 0.1901\n",
    "# sc.fit_transform(): does both of the above tasks."
   ]
  },
  {
   "cell_type": "code",
   "execution_count": null,
   "metadata": {
    "colab": {
     "base_uri": "https://localhost:8080/"
    },
    "id": "Vlpa4Q4ieLam",
    "outputId": "76256e53-bdfb-4fe5-a390-7ebd81da30c6"
   },
   "outputs": [],
   "source": [
    "sc.fit_transform(df)"
   ]
  },
  {
   "cell_type": "code",
   "execution_count": null,
   "metadata": {
    "colab": {
     "base_uri": "https://localhost:8080/",
     "height": 423
    },
    "id": "nrAOywtMFSDm",
    "outputId": "49e1e220-f364-4203-88ee-4fd444ccc65f"
   },
   "outputs": [],
   "source": [
    "pd.DataFrame(sc.fit_transform(df)) # got table but column names are not visible. Index is there."
   ]
  },
  {
   "cell_type": "code",
   "execution_count": null,
   "metadata": {
    "colab": {
     "base_uri": "https://localhost:8080/"
    },
    "id": "FNun3pVvfob-",
    "outputId": "5143b977-66cf-4ffd-d846-ed89e04ad62e"
   },
   "outputs": [],
   "source": [
    "df.columns # display all column names in sequence"
   ]
  },
  {
   "cell_type": "code",
   "execution_count": null,
   "metadata": {
    "colab": {
     "base_uri": "https://localhost:8080/",
     "height": 423
    },
    "id": "CMz_uUxefr4e",
    "outputId": "45a7dc2d-3f2a-4237-c00c-b1d06d84963e"
   },
   "outputs": [],
   "source": [
    "# convert scaled array into dataframe. For this standardized data mean=0 and std=1\n",
    "scaled_data = pd.DataFrame(sc.fit_transform(df),columns=df.columns)\n",
    "scaled_data"
   ]
  },
  {
   "cell_type": "code",
   "execution_count": null,
   "metadata": {
    "colab": {
     "base_uri": "https://localhost:8080/",
     "height": 300
    },
    "id": "of6BpXhQF76W",
    "outputId": "deaa3cca-ad75-433f-fe5a-1f51aa1f142b"
   },
   "outputs": [],
   "source": [
    "# check if mean=0 and std=1\n",
    "scaled_data.describe()"
   ]
  },
  {
   "cell_type": "markdown",
   "metadata": {
    "id": "Be31bmkYGqCG"
   },
   "source": [
    "# **MinMaxScaler()**"
   ]
  },
  {
   "cell_type": "code",
   "execution_count": null,
   "metadata": {
    "id": "49KsjDF6GdrE"
   },
   "outputs": [],
   "source": [
    "mn = MinMaxScaler()"
   ]
  },
  {
   "cell_type": "code",
   "execution_count": null,
   "metadata": {
    "colab": {
     "base_uri": "https://localhost:8080/"
    },
    "id": "fUY3C_o7JDrk",
    "outputId": "f9ad6aed-2b73-47fe-f7a6-4957c2142785"
   },
   "outputs": [],
   "source": [
    "df.columns"
   ]
  },
  {
   "cell_type": "code",
   "execution_count": null,
   "metadata": {
    "colab": {
     "base_uri": "https://localhost:8080/",
     "height": 423
    },
    "id": "338I73w7ewib",
    "outputId": "2feb3d1e-c32b-4b27-d623-57746317a221"
   },
   "outputs": [],
   "source": [
    "minmax_scaled = pd.DataFrame(mn.fit_transform(df), columns=df.columns)\n",
    "minmax_scaled # converted value is in range of 0 and 1"
   ]
  },
  {
   "cell_type": "code",
   "execution_count": null,
   "metadata": {
    "colab": {
     "base_uri": "https://localhost:8080/",
     "height": 300
    },
    "id": "qPGVFEr1JVS7",
    "outputId": "1fa8f05a-fa50-484a-add5-05cd331f45c3"
   },
   "outputs": [],
   "source": [
    "minmax_scaled.describe() # check min and max values as 0 and 1 respectively"
   ]
  },
  {
   "cell_type": "code",
   "execution_count": null,
   "metadata": {
    "id": "vJ1RfXDbcEw5"
   },
   "outputs": [],
   "source": []
  },
  {
   "cell_type": "code",
   "execution_count": null,
   "metadata": {
    "id": "SKrGVtHMa2T6"
   },
   "outputs": [],
   "source": []
  },
  {
   "cell_type": "markdown",
   "metadata": {
    "id": "oQ-m97GPSU5M"
   },
   "source": [
    "# **Filling special symbols (which are not identified with isnull()) with NaN**"
   ]
  },
  {
   "cell_type": "code",
   "execution_count": null,
   "metadata": {
    "colab": {
     "base_uri": "https://localhost:8080/",
     "height": 192
    },
    "id": "MkiGLXJfSTwu",
    "outputId": "52ee603b-574c-4b63-a56e-63c0d49f21fb"
   },
   "outputs": [],
   "source": [
    "import pandas as pd\n",
    "import numpy as np\n",
    "\n",
    "# Sample dataset with \"?\" as missing values\n",
    "data = {\n",
    "    'Name': ['Amit', 'Neha', 'Chirag', '?'],\n",
    "    'Age': [25, '?', 30, 28],\n",
    "    'Score': [88, 92, '?', 95]\n",
    "}\n",
    "\n",
    "df = pd.DataFrame(data)\n",
    "print(\"Original DataFrame:\")\n",
    "df"
   ]
  },
  {
   "cell_type": "code",
   "execution_count": null,
   "metadata": {
    "colab": {
     "base_uri": "https://localhost:8080/",
     "height": 178
    },
    "id": "LaB5OF5mS7Yt",
    "outputId": "ea74c385-6693-44b5-c931-d88abb9b5ec8"
   },
   "outputs": [],
   "source": [
    "df.isnull().sum()"
   ]
  },
  {
   "cell_type": "code",
   "execution_count": null,
   "metadata": {
    "id": "LMo0lFH3S8Op"
   },
   "outputs": [],
   "source": [
    "df.replace(\"?\", np.nan, inplace=True)\n",
    "# if we want to replace multiple symbols at a time\n",
    "# df.replace([\"?\", \"#\", \"N/A\"], np.nan, inplace=True)"
   ]
  },
  {
   "cell_type": "code",
   "execution_count": null,
   "metadata": {
    "colab": {
     "base_uri": "https://localhost:8080/",
     "height": 175
    },
    "id": "oVktev7ul_5y",
    "outputId": "141a07d9-a9df-43d9-db95-37659002eba9"
   },
   "outputs": [],
   "source": [
    "df"
   ]
  },
  {
   "cell_type": "code",
   "execution_count": null,
   "metadata": {
    "colab": {
     "base_uri": "https://localhost:8080/",
     "height": 178
    },
    "id": "h5fv44T1TYL0",
    "outputId": "c896b1bd-e423-4934-eb87-3953512318f0"
   },
   "outputs": [],
   "source": [
    "df.isnull().sum()"
   ]
  },
  {
   "cell_type": "code",
   "execution_count": null,
   "metadata": {
    "id": "ogJBC68ITxU_"
   },
   "outputs": [],
   "source": [
    "# Now you can impute missing values"
   ]
  },
  {
   "cell_type": "code",
   "execution_count": null,
   "metadata": {
    "id": "I3ipZeBnT3v7"
   },
   "outputs": [],
   "source": []
  },
  {
   "cell_type": "code",
   "execution_count": null,
   "metadata": {
    "id": "LNwNo_30Phn_"
   },
   "outputs": [],
   "source": []
  },
  {
   "cell_type": "code",
   "execution_count": null,
   "metadata": {
    "colab": {
     "base_uri": "https://localhost:8080/"
    },
    "id": "-W63Dyv3o4rR",
    "outputId": "3b172f36-755c-4541-d4c6-9109f630c303"
   },
   "outputs": [],
   "source": [
    "!pip install pandas_profiling==3.1.0\n",
    "!pip install -U ydata-profiling\n",
    "!pip install sweetviz"
   ]
  },
  {
   "cell_type": "code",
   "execution_count": null,
   "metadata": {
    "id": "vPUhz0-Qo5d4"
   },
   "outputs": [],
   "source": [
    "import pandas_profiling as pp\n",
    "import sweetviz as sv"
   ]
  },
  {
   "cell_type": "code",
   "execution_count": null,
   "metadata": {
    "colab": {
     "base_uri": "https://localhost:8080/",
     "height": 112
    },
    "id": "wFHtzZTWacmg",
    "outputId": "caf2bbf9-9c80-4716-a294-970a9cb34a29"
   },
   "outputs": [],
   "source": [
    "df = pd.read_csv('data_clean.csv',index_col=0)\n",
    "df.head(2)"
   ]
  },
  {
   "cell_type": "markdown",
   "metadata": {
    "id": "fW4MU5xjbViJ"
   },
   "source": [
    "\n",
    "\n",
    "*  For a dataset with less elements (unique values) than a given number (say 5) pandas_profiling assumes that your variable is categorical instead of numerical\n",
    "\n"
   ]
  },
  {
   "cell_type": "code",
   "execution_count": null,
   "metadata": {
    "colab": {
     "base_uri": "https://localhost:8080/",
     "height": 918,
     "referenced_widgets": [
      "f68a40ee272f469a9a466db862204da3",
      "1fa4795fbc634787942782468f773ad5",
      "bbf790ce31634ffbb81b3fa12a7138e0",
      "4d60ff786cbc4552bf270c677ef24794",
      "974cff3dfacf48ecb8eea4e5eb44d739",
      "f5b99ae73bbd405d9d10d5323576d16c",
      "9882162fce2b4fc480f9b0d28047875f",
      "617f90d671464a8fa0ee6e1c0a5dd032",
      "58499e04e6f94a5d8448f039a8a23964",
      "5144b0b516df4b1d81710603dfe680b9",
      "3804b50bd7ff4d3a8758b9f3d170a882",
      "f3c9225ded46406f8fde8822a2c5f981",
      "761acec9508646fd889068a105d6485f",
      "7b7210ea15ad48ed905dfadb6470e5f4",
      "4048cade4cd845999435638af3225887",
      "af43295784a44c8f8d39dfb21423ca3c",
      "ef9a8018d27e4fd2b1f543e0e3b09e29",
      "6f81b9e912ae4980aa99d1774fa1bd63",
      "82239d549000464e976ac92a340d328a",
      "4de7aebb58384986a41427d0df4a15ed",
      "7913b1d20aa8465ca3bb8564ac822e2d",
      "ce7c51017d3e4b3c914543001024fb74",
      "563a1ee5216e4765a9519017a10d8465",
      "09e1bf32ba524a77b54fd918f9f5ad6b",
      "e57558d310fe4151a9860a52222e1850",
      "caf540570d3241788bce114a8e8c4b65",
      "13f60a83ed02409e83a277afa0213b58",
      "4cf7770ad0da457294357bf6080065d8",
      "78461847ad314f9db08c8d01f74709fa",
      "8fe04d93da414da0a46eb747ac26bb1e",
      "1e5ed36fb8464467a8bcdedf517840d4",
      "221ea04eed6a48da82d386edf1e39ec7",
      "d8a728b406454122bb6425d86308b89c"
     ]
    },
    "id": "C-YWnpahao4f",
    "outputId": "41d5c1f3-9d5b-48ba-d831-5f0e229a5111"
   },
   "outputs": [],
   "source": [
    "EDA_report=pp.ProfileReport(df)\n",
    "EDA_report"
   ]
  },
  {
   "cell_type": "code",
   "execution_count": null,
   "metadata": {
    "id": "HwMckaii1KLk"
   },
   "outputs": [],
   "source": [
    "data = pd.read_csv(\"/content/data_clean.csv\",index_col=0) # No index column will be displayed"
   ]
  },
  {
   "cell_type": "code",
   "execution_count": null,
   "metadata": {
    "id": "lpuV_SXYHiKR"
   },
   "outputs": [],
   "source": [
    "# in your dataset Year column is not at all important. Its datatype is Intger. In this column unique values are only 1 i.e. 2010.\n",
    "#\n",
    "\n",
    "EDA_report= pp.ProfileReport(data,vars={\"num\":{\"low_categorical_threshold\":0}})\n",
    "#vars is a parameter of ProdileReport(). Pass a dictionary to vars\n",
    "# where you have to specify for all the numerical columns keep threshold value as 0 zero\n",
    "# i.e. no. of unique values in all numerical values to be kept as zero.\n",
    "# So even if you have zero values in your numerical column do not convert it into categorical value, keep it as integer only\n"
   ]
  },
  {
   "cell_type": "code",
   "execution_count": null,
   "metadata": {
    "colab": {
     "base_uri": "https://localhost:8080/",
     "height": 918,
     "referenced_widgets": [
      "2e9ea028bbf54dfc9e8a9e94cc122bc8",
      "c9b05b37daf04ac6a6ca437e35688bbd",
      "cc6e9e2dffa1426c8fddd20d467ce322",
      "0ddc358a25224456a211b6ea53845a07",
      "a134d662444c4859a61c281d6e4336a7",
      "76dc202033eb4e438e7d31c564d8def6",
      "ab9ee25444d04c2688b4a8466d0da154",
      "7bd112f230e048bfb7193bc242567bf4",
      "406a13f44fa9421ea9404cf798fa4786",
      "f0f948a4731b485dab8916900939ddab",
      "2bc711552341446283358b18741cc8f6",
      "53fecc16a57f48618aece9838117ca21",
      "22981788beba439cb67bd192edc6212c",
      "5ffb854987a44347ba2d172c44c95575",
      "5ce7ec5686e64261bb28570cc07fcc9b",
      "4cc53619e1e9411d9c148155f07b0220",
      "a7c5341b8ea5410ea5feaff32de231af",
      "5133635d03544a44b2c560de04a495d5",
      "205b86d46f25473abd74d971eb07f4f4",
      "a5c0ad96950e4b6b97c617fe648b9f7d",
      "6fe163a0bb2d46cc8bd0d5ec91a71de1",
      "ca5f3f6e29df43908c06083ec75c74f6",
      "3964e530dc464d8a9c5c20295c92f2c2",
      "6e8c5eebae7040b18480e375a2271325",
      "bb2e29200d03448a9c3dbf7de909ec04",
      "ec82407d9776490bb30940216dc0d447",
      "177c45fe628a4a98a320cf485b16c415",
      "ba6b7a0219414e0d9409eb0ae7ba7e99",
      "e53b8fe517f149fe80cf729f971b0912",
      "e7cf7bb3f2b44fc7af7a9cb6d557b1c4",
      "ec4c1ca379a34683af42a42ea0543b40",
      "f1bc8b8c7a414fbb8d4814b73e6bdb7b",
      "3dd3636b385041ef8316047b196d0699"
     ]
    },
    "id": "d4o7FT2FK4YQ",
    "outputId": "7c628481-75e3-4613-ec44-d69c1eebf299"
   },
   "outputs": [],
   "source": [
    "EDA_report"
   ]
  },
  {
   "cell_type": "code",
   "execution_count": null,
   "metadata": {
    "colab": {
     "base_uri": "https://localhost:8080/",
     "height": 66,
     "referenced_widgets": [
      "8ef9356228b04308bf13f26cfa2b0507",
      "cc0e3ebcbbd44767bb498b90d63fdfc5",
      "e0b38987d2604b51bfdbed04284cc2ef",
      "bf270a426eae4bab89e125fa440f63d0",
      "ffc43812b94c4c569b22353803fccdd4",
      "349a1d22bd4d46beb08b35fbce3d58f6",
      "56468e1d83be4a1b84b62096a66e1105",
      "f7b1b62abaf1484fb36cb7c83bb0a2d2",
      "96fba8508c40441eb5b2e22c0103ef19",
      "f6a74895454f46e5b419ba7beb157230",
      "b45d3219046c45e98ffad2e46fe8bd32"
     ]
    },
    "id": "meVFt-s9HiKR",
    "outputId": "205398ea-9729-41c5-e9d9-aa4024c49aa2"
   },
   "outputs": [],
   "source": [
    "sweet_report = sv.analyze(data)\n",
    "sweet_report.show_html('weather_report.html')"
   ]
  }
 ],
 "metadata": {
  "colab": {
   "provenance": []
  },
  "kernelspec": {
   "display_name": "Python 3",
   "language": "python",
   "name": "python3"
  },
  "language_info": {
   "codemirror_mode": {
    "name": "ipython",
    "version": 3
   },
   "file_extension": ".py",
   "mimetype": "text/x-python",
   "name": "python",
   "nbconvert_exporter": "python",
   "pygments_lexer": "ipython3",
   "version": "3.7.4"
  }
 },
 "nbformat": 4,
 "nbformat_minor": 0
}
